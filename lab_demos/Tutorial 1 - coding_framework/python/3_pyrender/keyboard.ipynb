{
 "cells": [
  {
   "cell_type": "markdown",
   "metadata": {},
   "source": [
    "## Keyboard event handler\n",
    "\n",
    "Keyboard events and event bindings in pyrender/pyglet is easy. It can be achieved in one line.\n",
    "\n",
    "```\n",
    "pyrender.Viewer( scene, registered_keys={\n",
    "        '1': (event_handler_1, [args]),\n",
    "        '2': (event_handler_2)\n",
    "        } )\n",
    "\n",
    "```\n",
    "\n"
   ]
  },
  {
   "cell_type": "code",
   "execution_count": 1,
   "metadata": {},
   "outputs": [],
   "source": [
    "import sys,os\n",
    "\n",
    "RES_PATH = '../../../../resources'\n",
    "LIB_PATH = '../../../../python_lib'\n",
    "\n",
    "if not os.path.exists(RES_PATH):\n",
    "    print( 'cannot find \\resources\\, please update RES_PATH')\n",
    "    exit(1)\n",
    "\n",
    "# append path \n",
    "sys.path.append(LIB_PATH) \n",
    "from geo_tools import rd_helper\n",
    "\n",
    "import pyglet\n",
    "pyglet.options['shadow_window'] = False\n",
    "\n",
    "import pyrender\n",
    "import numpy as np\n",
    "import trimesh\n",
    "\n",
    "import matplotlib\n",
    "import matplotlib.pyplot as plt\n",
    "\n",
    "%load_ext autoreload\n",
    "%autoreload 2"
   ]
  },
  {
   "cell_type": "markdown",
   "metadata": {},
   "source": [
    "## Load some meshes"
   ]
  },
  {
   "cell_type": "code",
   "execution_count": 2,
   "metadata": {},
   "outputs": [],
   "source": [
    "mesh_fns=[\n",
    "    'torus.obj', \n",
    "    'sphere.obj',\n",
    "    \n",
    "]\n",
    "\n",
    "mesh_list=[]\n",
    "\n",
    "for fn in mesh_fns:\n",
    "    mesh_fp = os.path.join(RES_PATH,fn)\n",
    "    assert os.path.exists(mesh_fp), 'cannot found:'+mesh_fp \n",
    "    tm = trimesh.load(mesh_fp)  \n",
    "    mesh_list.append(tm)\n"
   ]
  },
  {
   "cell_type": "markdown",
   "metadata": {},
   "source": [
    "## Create render objects"
   ]
  },
  {
   "cell_type": "code",
   "execution_count": 3,
   "metadata": {},
   "outputs": [],
   "source": [
    "render_list=[]\n",
    "for m in mesh_list:\n",
    "    render_list.append(pyrender.Mesh.from_trimesh(m))\n",
    "    \n"
   ]
  },
  {
   "cell_type": "code",
   "execution_count": 4,
   "metadata": {},
   "outputs": [],
   "source": [
    "def key_board_handler(viewer):\n",
    "    print('trigger')"
   ]
  },
  {
   "cell_type": "markdown",
   "metadata": {},
   "source": [
    "## Press '0' to test your key_board_handler"
   ]
  },
  {
   "cell_type": "code",
   "execution_count": 6,
   "metadata": {},
   "outputs": [],
   "source": [
    "\n",
    "def run_gui():\n",
    "    scene,nodes = rd_helper.scene_factory(render_list,return_nodes=True)\n",
    "\n",
    "    key_mapping={\n",
    "        '0':(key_board_handler)\n",
    "    }\n",
    "\n",
    "    # call GUI\n",
    "    v=pyrender.Viewer(scene, use_raymond_lighting=True, registered_keys=key_mapping)\n",
    "\n",
    "run_gui()"
   ]
  },
  {
   "cell_type": "markdown",
   "metadata": {},
   "source": [
    "## Interactive Example\n",
    "\n",
    "### switch the display of torus.obj \n",
    "<img src=\"../imgs/show_obj3.jpg\" width=\"400\" align=\"left\"/>  \n"
   ]
  },
  {
   "cell_type": "code",
   "execution_count": 7,
   "metadata": {},
   "outputs": [],
   "source": [
    "### first create a context object\n",
    "gctx={}\n",
    "gctx['count']=0"
   ]
  },
  {
   "cell_type": "markdown",
   "metadata": {},
   "source": [
    "## Define a handler"
   ]
  },
  {
   "cell_type": "code",
   "execution_count": 8,
   "metadata": {},
   "outputs": [],
   "source": [
    "def toggle_display(viewer,gctx):\n",
    "    gctx['count']+=1\n",
    "    print('called #:',gctx['count'])\n",
    "    \n",
    "    nodes =  list(viewer.scene.mesh_nodes)\n",
    "    \n",
    "    if len(nodes) > 1:\n",
    "        nodes[1].mesh.is_visible = not nodes[1].mesh.is_visible\n",
    "\n",
    "        if nodes[1].mesh.is_visible:\n",
    "            viewer._message_text='Show objects'\n",
    "        else:\n",
    "            viewer._message_text='Hide objects' \n",
    "    "
   ]
  },
  {
   "cell_type": "code",
   "execution_count": 9,
   "metadata": {},
   "outputs": [
    {
     "name": "stdout",
     "output_type": "stream",
     "text": [
      "called #: 1\n",
      "called #: 2\n",
      "called #: 3\n",
      "called #: 4\n",
      "called #: 5\n",
      "called #: 6\n",
      "called #: 7\n",
      "called #: 8\n",
      "called #: 9\n",
      "called #: 10\n",
      "called #: 11\n",
      "called #: 12\n"
     ]
    }
   ],
   "source": [
    "def run_gui():    \n",
    "    try:\n",
    "        scene = rd_helper.scene_factory(render_list)\n",
    "        key_mapping={\n",
    "            '7':(toggle_display,[gctx]) # passing an extra argument\n",
    "        }\n",
    "\n",
    "        # call GUI\n",
    "        v=pyrender.Viewer(scene, use_raymond_lighting=True, registered_keys=key_mapping)\n",
    "        del v\n",
    "        \n",
    "    except :\n",
    "        print('exception captured') \n",
    "    \n",
    "run_gui()"
   ]
  }
 ],
 "metadata": {
  "kernelspec": {
   "display_name": "Python 3",
   "language": "python",
   "name": "python3"
  },
  "language_info": {
   "codemirror_mode": {
    "name": "ipython",
    "version": 3
   },
   "file_extension": ".py",
   "mimetype": "text/x-python",
   "name": "python",
   "nbconvert_exporter": "python",
   "pygments_lexer": "ipython3",
   "version": "3.6.12"
  }
 },
 "nbformat": 4,
 "nbformat_minor": 2
}
