{
 "cells": [
  {
   "cell_type": "code",
   "execution_count": 1,
   "metadata": {},
   "outputs": [],
   "source": [
    "import sys,os\n",
    "\n",
    "RES_PATH = '../../../../resources' \n",
    "\n",
    "if not os.path.exists(RES_PATH):\n",
    "    print( 'cannot find \\resources\\, please update RES_PATH')\n",
    "    exit(1)\n",
    "\n",
    "import open3d as o3d\n",
    "import numpy as np\n",
    "import trimesh\n",
    "\n",
    "import matplotlib\n",
    "import matplotlib.pyplot as plt\n",
    "\n",
    "%load_ext autoreload\n",
    "%autoreload 2\n",
    "%config IPCompleter.greedy=True"
   ]
  },
  {
   "cell_type": "markdown",
   "metadata": {},
   "source": [
    "## Create a Mesh render object from Trimesh.Mesh"
   ]
  },
  {
   "cell_type": "code",
   "execution_count": 2,
   "metadata": {},
   "outputs": [],
   "source": [
    "mesh_fp = os.path.join(RES_PATH,'torus.obj')\n",
    "assert os.path.exists(mesh_fp), 'cannot found:'+mesh_fp \n",
    "\n",
    "tm = trimesh.load_mesh(mesh_fp) \n"
   ]
  },
  {
   "cell_type": "markdown",
   "metadata": {},
   "source": [
    "## Convert Trimesh to open3d.geometry object"
   ]
  },
  {
   "cell_type": "code",
   "execution_count": null,
   "metadata": {},
   "outputs": [],
   "source": []
  },
  {
   "cell_type": "code",
   "execution_count": 3,
   "metadata": {},
   "outputs": [],
   "source": [
    "mesh_o3d= o3d.geometry.TriangleMesh()\n",
    "mesh_o3d.vertices=o3d.utility.Vector3dVector( tm.vertices )\n",
    "mesh_o3d.triangles=o3d.utility.Vector3iVector( tm.faces)\n",
    "#mesh_o3d.vertex_normals=o3d.utility.Vector3dVector( np.asarray(tm.vertex_normals ))\n",
    "mesh_o3d.compute_vertex_normals()\n",
    "\n",
    "vex_color_rgb=np.random.rand(tm.vertices.shape[0],3)\n",
    "mesh_o3d.vertex_colors=o3d.utility.Vector3dVector( vex_color_rgb )"
   ]
  },
  {
   "cell_type": "markdown",
   "metadata": {},
   "source": [
    "## Show mesh"
   ]
  },
  {
   "cell_type": "raw",
   "metadata": {},
   "source": [
    "[Open3D INFO]   -- Render mode control --\n",
    "[Open3D INFO]     L            : Turn on/off lighting.\n",
    "[Open3D INFO]     +/-          : Increase/decrease point size.\n",
    "[Open3D INFO]     Ctrl + +/-   : Increase/decrease width of geometry::LineSet.\n",
    "[Open3D INFO]     N            : Turn on/off point cloud normal rendering.\n",
    "[Open3D INFO]     S            : Toggle between mesh flat shading and smooth shading.\n",
    "[Open3D INFO]     W            : Turn on/off mesh wireframe.\n",
    "[Open3D INFO]     B            : Turn on/off back face rendering.\n",
    "[Open3D INFO]     I            : Turn on/off image zoom in interpolation.\n",
    "[Open3D INFO]     T            : Toggle among image render:\n",
    "[Open3D INFO]                    no stretch / keep ratio / freely stretch.\n",
    "[Open3D INFO] \n",
    "[Open3D INFO]   -- Color control --\n",
    "[Open3D INFO]     0..4,9       : Set point cloud color option.\n",
    "[Open3D INFO]                    0 - Default behavior, render point color.\n",
    "[Open3D INFO]                    1 - Render point color.\n",
    "[Open3D INFO]                    2 - x coordinate as color.\n",
    "[Open3D INFO]                    3 - y coordinate as color.\n",
    "[Open3D INFO]                    4 - z coordinate as color.\n",
    "[Open3D INFO]                    9 - normal as color.\n",
    "[Open3D INFO]     Ctrl + 0..4,9: Set mesh color option.\n",
    "[Open3D INFO]                    0 - Default behavior, render uniform gray color.\n",
    "[Open3D INFO]                    1 - Render point color.\n",
    "[Open3D INFO]                    2 - x coordinate as color.\n",
    "[Open3D INFO]                    3 - y coordinate as color.\n",
    "[Open3D INFO]                    4 - z coordinate as color.\n",
    "[Open3D INFO]                    9 - normal as color.\n",
    "[Open3D INFO]     Shift + 0..4 : Color map options.\n",
    "[Open3D INFO]                    0 - Gray scale color.\n",
    "[Open3D INFO]                    1 - JET color map.\n",
    "[Open3D INFO]                    2 - SUMMER color map.\n",
    "[Open3D INFO]                    3 - WINTER color map.\n",
    "[Open3D INFO]                    4 - HOT color map."
   ]
  },
  {
   "cell_type": "code",
   "execution_count": 4,
   "metadata": {
    "scrolled": false
   },
   "outputs": [],
   "source": [
    "o3d.visualization.draw_geometries([mesh_o3d])"
   ]
  },
  {
   "cell_type": "markdown",
   "metadata": {},
   "source": [
    "## create a point cloud object"
   ]
  },
  {
   "cell_type": "code",
   "execution_count": 5,
   "metadata": {},
   "outputs": [],
   "source": [
    "# http://www.open3d.org/docs/release/python_api/open3d.geometry.PointCloud.html#open3d.geometry.PointCloud.points\n",
    "\n",
    "pts_o3d= o3d.geometry.PointCloud()\n",
    "pts_o3d.points=o3d.utility.Vector3dVector( tm.vertices )\n",
    "pts_color_rgb=np.random.rand(tm.vertices.shape[0],3)\n",
    "pts_o3d.colors=o3d.utility.Vector3dVector( pts_color_rgb )"
   ]
  },
  {
   "cell_type": "markdown",
   "metadata": {},
   "source": [
    "## Show point cloud"
   ]
  },
  {
   "cell_type": "code",
   "execution_count": 6,
   "metadata": {},
   "outputs": [],
   "source": [
    "o3d.visualization.draw_geometries([pts_o3d])"
   ]
  },
  {
   "cell_type": "markdown",
   "metadata": {},
   "source": [
    "## Create line objects"
   ]
  },
  {
   "cell_type": "code",
   "execution_count": 7,
   "metadata": {},
   "outputs": [
    {
     "name": "stdout",
     "output_type": "stream",
     "text": [
      "(8, 2)\n",
      "int32\n"
     ]
    },
    {
     "data": {
      "text/plain": [
       "LineSet with 8 lines."
      ]
     },
     "execution_count": 7,
     "metadata": {},
     "output_type": "execute_result"
    }
   ],
   "source": [
    "\n",
    "#create some edges\n",
    "edges= tm.edges[:30:4,:].astype(np.int)\n",
    "print(edges.shape)\n",
    "print(edges.dtype)\n",
    "\n",
    "# http://www.open3d.org/docs/release/python_api/open3d.geometry.LineSet.html\n",
    "lines_o3d= o3d.geometry.LineSet()\n",
    "lines_o3d.points=o3d.utility.Vector3dVector( tm.vertices )\n",
    "lines_o3d.lines=o3d.utility.Vector2iVector( edges)\n",
    "lines_o3d.paint_uniform_color((1.0,0.0,0.0))"
   ]
  },
  {
   "cell_type": "code",
   "execution_count": 8,
   "metadata": {},
   "outputs": [],
   "source": [
    "o3d.visualization.draw_geometries([pts_o3d,lines_o3d])"
   ]
  }
 ],
 "metadata": {
  "kernelspec": {
   "display_name": "Python 3",
   "language": "python",
   "name": "python3"
  },
  "language_info": {
   "codemirror_mode": {
    "name": "ipython",
    "version": 3
   },
   "file_extension": ".py",
   "mimetype": "text/x-python",
   "name": "python",
   "nbconvert_exporter": "python",
   "pygments_lexer": "ipython3",
   "version": "3.6.12"
  }
 },
 "nbformat": 4,
 "nbformat_minor": 4
}
