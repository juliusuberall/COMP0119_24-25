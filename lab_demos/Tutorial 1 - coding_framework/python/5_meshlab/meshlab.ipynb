{
 "cells": [
  {
   "cell_type": "markdown",
   "metadata": {},
   "source": [
    "# Install MeshLab from\n",
    "[http://www.meshlab.net/](http://www.meshlab.net/)\n",
    "\n",
    "![meshlab.JPG](../imgs/meshlab.JPG)"
   ]
  },
  {
   "cell_type": "code",
   "execution_count": 4,
   "metadata": {},
   "outputs": [
    {
     "name": "stdout",
     "output_type": "stream",
     "text": [
      "found resources\n",
      "The autoreload extension is already loaded. To reload it, use:\n",
      "  %reload_ext autoreload\n"
     ]
    }
   ],
   "source": [
    "import sys,os\n",
    "\n",
    "RES_PATH = '../../../../resources'\n",
    "LIB_PATH = '../../../../python_lib'\n",
    "\n",
    "if not os.path.exists(RES_PATH):\n",
    "    print( 'cannot find \\resources\\, please update RES_PATH')\n",
    "    exit(1)\n",
    "else:\n",
    "    print('found resources')\n",
    "\n",
    "# append path \n",
    "sys.path.append(LIB_PATH) \n",
    "from geo_tools import rd_helper\n",
    "\n",
    "import numpy as np\n",
    "import trimesh\n",
    "\n",
    "import matplotlib\n",
    "import matplotlib.pyplot as plt\n",
    "\n",
    "%load_ext autoreload\n",
    "%autoreload 2"
   ]
  },
  {
   "cell_type": "markdown",
   "metadata": {},
   "source": [
    "## Create a example point cloud "
   ]
  },
  {
   "cell_type": "code",
   "execution_count": 5,
   "metadata": {},
   "outputs": [
    {
     "name": "stdout",
     "output_type": "stream",
     "text": [
      "(3000, 3)\n"
     ]
    }
   ],
   "source": [
    "mesh_fp = os.path.join(RES_PATH,'torus.obj')\n",
    "assert os.path.exists(mesh_fp), 'cannot found:'+mesh_fp \n",
    "mm = trimesh.load(mesh_fp) \n",
    "\n",
    "surface_points = mm.sample(3000)\n",
    "print(surface_points.shape)\n"
   ]
  },
  {
   "cell_type": "markdown",
   "metadata": {},
   "source": [
    "# Point cloud \n",
    "### Save point cloud as a obj files use our helper function"
   ]
  },
  {
   "cell_type": "code",
   "execution_count": 6,
   "metadata": {},
   "outputs": [],
   "source": [
    "rd_helper.save_pcd_obj('./torus_pts.obj', surface_points)\n"
   ]
  },
  {
   "cell_type": "markdown",
   "metadata": {},
   "source": [
    "## Reload the obj file in MeshLab"
   ]
  },
  {
   "cell_type": "markdown",
   "metadata": {},
   "source": [
    "![meshlab.JPG](../imgs/meshlab_pcd.JPG)"
   ]
  },
  {
   "cell_type": "markdown",
   "metadata": {},
   "source": [
    "# Mesh \n",
    "### use Trimesh to load a mesh"
   ]
  },
  {
   "cell_type": "code",
   "execution_count": 7,
   "metadata": {},
   "outputs": [
    {
     "name": "stdout",
     "output_type": "stream",
     "text": [
      "tm.type= <class 'trimesh.base.Trimesh'>\n"
     ]
    }
   ],
   "source": [
    "mesh_fp = os.path.join(RES_PATH,'torus.obj')\n",
    "assert os.path.exists(mesh_fp), 'cannot found:'+mesh_fp \n",
    "tm = trimesh.load(mesh_fp) \n",
    "\n",
    "print('tm.type=',type(tm))\n"
   ]
  },
  {
   "cell_type": "markdown",
   "metadata": {},
   "source": [
    "## Change Vertex Color"
   ]
  },
  {
   "cell_type": "code",
   "execution_count": 8,
   "metadata": {},
   "outputs": [],
   "source": [
    "mesh_fp = os.path.join(RES_PATH,'torus.obj')\n",
    "assert os.path.exists(mesh_fp), 'cannot found:'+mesh_fp \n",
    "tm = trimesh.load(mesh_fp) \n",
    "\n",
    "num = tm.vertices.shape[0]\n",
    "tm.visual.vertex_colors=np.random.rand(num,3)\n"
   ]
  },
  {
   "cell_type": "markdown",
   "metadata": {},
   "source": [
    "## save out a obj file"
   ]
  },
  {
   "cell_type": "code",
   "execution_count": 9,
   "metadata": {},
   "outputs": [
    {
     "name": "stdout",
     "output_type": "stream",
     "text": [
      "done\n"
     ]
    }
   ],
   "source": [
    "tm.export('torus_rand_color.obj')\n",
    "print('done')"
   ]
  },
  {
   "cell_type": "markdown",
   "metadata": {},
   "source": [
    "## save out a ply file"
   ]
  },
  {
   "cell_type": "code",
   "execution_count": 10,
   "metadata": {},
   "outputs": [
    {
     "name": "stdout",
     "output_type": "stream",
     "text": [
      "done\n"
     ]
    }
   ],
   "source": [
    "tm.export('torus_rand_color.ply')\n",
    "print('done')"
   ]
  },
  {
   "cell_type": "markdown",
   "metadata": {},
   "source": [
    "## Open the mesh files in MeshLab"
   ]
  },
  {
   "cell_type": "markdown",
   "metadata": {},
   "source": [
    "![meshlab.JPG](../imgs/meshlab_mesh.JPG)"
   ]
  },
  {
   "cell_type": "code",
   "execution_count": null,
   "metadata": {},
   "outputs": [],
   "source": []
  }
 ],
 "metadata": {
  "kernelspec": {
   "display_name": "Python 3",
   "language": "python",
   "name": "python3"
  },
  "language_info": {
   "codemirror_mode": {
    "name": "ipython",
    "version": 3
   },
   "file_extension": ".py",
   "mimetype": "text/x-python",
   "name": "python",
   "nbconvert_exporter": "python",
   "pygments_lexer": "ipython3",
   "version": "3.6.12"
  }
 },
 "nbformat": 4,
 "nbformat_minor": 2
}
