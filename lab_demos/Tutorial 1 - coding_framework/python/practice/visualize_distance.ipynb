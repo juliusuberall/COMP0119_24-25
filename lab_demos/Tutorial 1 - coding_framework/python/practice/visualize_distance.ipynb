{
 "cells": [
  {
   "cell_type": "code",
   "execution_count": 1,
   "metadata": {},
   "outputs": [],
   "source": [
    "import sys,os\n",
    "\n",
    "RES_PATH = '../../../../resources' \n",
    "\n",
    "if not os.path.exists(RES_PATH):\n",
    "    print( 'cannot find \\resources\\, please update RES_PATH')\n",
    "    exit(1)\n",
    "\n",
    "import open3d as o3d\n",
    "import numpy as np\n",
    "import trimesh\n",
    "\n",
    "import matplotlib\n",
    "import matplotlib.pyplot as plt\n",
    "\n",
    "%load_ext autoreload\n",
    "%autoreload 2\n",
    "%config IPCompleter.greedy=True"
   ]
  },
  {
   "cell_type": "markdown",
   "metadata": {},
   "source": [
    "## A bunny mesh"
   ]
  },
  {
   "cell_type": "code",
   "execution_count": 2,
   "metadata": {},
   "outputs": [],
   "source": [
    "mesh_fp = os.path.join(RES_PATH,'bun_zipper_res3.ply')\n",
    "assert os.path.exists(mesh_fp), 'cannot found:'+mesh_fp \n",
    "\n",
    "tm = trimesh.load_mesh(mesh_fp) \n"
   ]
  },
  {
   "cell_type": "markdown",
   "metadata": {},
   "source": [
    "## A sphere mesh"
   ]
  },
  {
   "cell_type": "code",
   "execution_count": 3,
   "metadata": {},
   "outputs": [],
   "source": [
    "tm_sphere=trimesh.creation.icosphere(3,0.002) \n"
   ]
  },
  {
   "cell_type": "markdown",
   "metadata": {},
   "source": [
    "## A query point and its projection on the bunny"
   ]
  },
  {
   "cell_type": "code",
   "execution_count": 4,
   "metadata": {},
   "outputs": [],
   "source": [
    "query=np.array([0.02,0.1,0.1]).reshape(1,3)\n",
    "query_on_mesh=np.array([0.00834267,0.0873808,0.0555541]).reshape(1,3)\n",
    "\n",
    "#cl_pts,_,_=trimesh.proximity.closest_point(tm,query)\n",
    "#query_on_mesh=np.array(cl_pts).reshape(1,3) \n",
    "#print(query_on_mesh)"
   ]
  },
  {
   "cell_type": "markdown",
   "metadata": {},
   "source": [
    "## Create a visualization using L2 distance between the query point and the vertices"
   ]
  },
  {
   "cell_type": "markdown",
   "metadata": {},
   "source": [
    "![](../imgs/pdist1.JPG) "
   ]
  },
  {
   "cell_type": "code",
   "execution_count": null,
   "metadata": {},
   "outputs": [],
   "source": []
  }
 ],
 "metadata": {
  "kernelspec": {
   "display_name": "Python 3",
   "language": "python",
   "name": "python3"
  },
  "language_info": {
   "codemirror_mode": {
    "name": "ipython",
    "version": 3
   },
   "file_extension": ".py",
   "mimetype": "text/x-python",
   "name": "python",
   "nbconvert_exporter": "python",
   "pygments_lexer": "ipython3",
   "version": "3.6.12"
  }
 },
 "nbformat": 4,
 "nbformat_minor": 4
}
