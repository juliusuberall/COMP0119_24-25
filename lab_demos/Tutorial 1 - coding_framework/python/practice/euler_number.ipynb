{
 "cells": [
  {
   "cell_type": "markdown",
   "metadata": {},
   "source": [
    "## Caluate Euler Number\n",
    "\n",
    "\n",
    "Recall that the definition of Euler Number is **V − E + F**.\n",
    "The goal of this pratice is to calculate Euler number by yourself.  \n",
    "Note that the **E** is defined as the number of undirectional edges.  \n",
    "\n",
    "From Wiki:  \n",
    "<div><img src=\"../imgs/enum.png\" width=\"600\" align=\"left\" /></div>  \n"
   ]
  },
  {
   "cell_type": "code",
   "execution_count": null,
   "metadata": {},
   "outputs": [],
   "source": [
    "import sys,os\n",
    "\n",
    "RES_PATH = '../../../../resources'\n",
    "LIB_PATH = '../../../../python_lib'\n",
    "\n",
    "if not os.path.exists(RES_PATH):\n",
    "    print( 'cannot find \\resources\\, please update RES_PATH')\n",
    "    exit(1)\n",
    "else:\n",
    "    print('found resources')\n",
    "\n",
    "# append path \n",
    "sys.path.append(LIB_PATH) \n",
    "from geo_tools import rd_helper\n",
    "\n",
    "\n",
    "import numpy as np\n",
    "import trimesh\n",
    "\n",
    "import matplotlib\n",
    "import matplotlib.pyplot as plt\n",
    "\n",
    "%load_ext autoreload\n",
    "%autoreload 2"
   ]
  },
  {
   "cell_type": "markdown",
   "metadata": {},
   "source": [
    "## Add your code at the regions contains TODO tags.\n"
   ]
  },
  {
   "cell_type": "markdown",
   "metadata": {},
   "source": [
    "## Load some meshes"
   ]
  },
  {
   "cell_type": "code",
   "execution_count": null,
   "metadata": {},
   "outputs": [],
   "source": [
    "mesh_fns=[\n",
    "    'box.obj',\n",
    "    'octahedron.obj',\n",
    "    'sphere.obj',\n",
    "    'icosahedron.obj',\n",
    "]\n",
    "\n",
    "mesh_list=[]\n",
    "\n",
    "for fn in mesh_fns:\n",
    "    mesh_fp = os.path.join(RES_PATH,fn)\n",
    "    assert os.path.exists(mesh_fp), 'cannot found:'+mesh_fp \n",
    "    \n",
    "    #------------\n",
    "    # TODO - load mesh using trimesh\n",
    "    tm = None\n",
    "    \n",
    "    #------------\n",
    "    mesh_list.append(tm)\n"
   ]
  },
  {
   "cell_type": "markdown",
   "metadata": {},
   "source": [
    "## Trimesh's Euler number"
   ]
  },
  {
   "cell_type": "code",
   "execution_count": null,
   "metadata": {},
   "outputs": [],
   "source": [
    "for i,m in enumerate(mesh_list):\n",
    "    print('{:15}, euler_number={:}'.format(mesh_fns[i],m.euler_number))"
   ]
  },
  {
   "cell_type": "markdown",
   "metadata": {},
   "source": [
    "## Calculate Euler number"
   ]
  },
  {
   "cell_type": "code",
   "execution_count": null,
   "metadata": {},
   "outputs": [],
   "source": [
    "def my_euler_number(trimesh_obj):\n",
    "    \n",
    "    # TODO - calculate and return euler number\n",
    "    enum = 0\n",
    "    return enum\n"
   ]
  },
  {
   "cell_type": "markdown",
   "metadata": {},
   "source": [
    "## Test"
   ]
  },
  {
   "cell_type": "code",
   "execution_count": null,
   "metadata": {},
   "outputs": [],
   "source": [
    "for i,m in enumerate(mesh_list):\n",
    "    \n",
    "    i_en = my_euler_number(m)\n",
    "    \n",
    "    if(i_en != m.euler_number):\n",
    "        print('Error,   {:15}, my_X={:},  trimesh_X={:}'.format(mesh_fns[i],i_en, m.euler_number))\n",
    "    else:\n",
    "        print('Correct, {:15}, my_X={:},  trimesh_X={:}'.format(mesh_fns[i],i_en, m.euler_number))\n",
    "        \n",
    "    \n"
   ]
  },
  {
   "cell_type": "code",
   "execution_count": null,
   "metadata": {},
   "outputs": [],
   "source": []
  }
 ],
 "metadata": {
  "kernelspec": {
   "display_name": "Python 3",
   "language": "python",
   "name": "python3"
  },
  "language_info": {
   "codemirror_mode": {
    "name": "ipython",
    "version": 3
   },
   "file_extension": ".py",
   "mimetype": "text/x-python",
   "name": "python",
   "nbconvert_exporter": "python",
   "pygments_lexer": "ipython3",
   "version": "3.6.12"
  }
 },
 "nbformat": 4,
 "nbformat_minor": 2
}
