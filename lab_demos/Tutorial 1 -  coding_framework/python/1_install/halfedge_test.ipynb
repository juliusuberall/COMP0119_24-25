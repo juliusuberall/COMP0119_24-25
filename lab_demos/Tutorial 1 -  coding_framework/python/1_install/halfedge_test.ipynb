{
 "cells": [
  {
   "cell_type": "code",
   "execution_count": 2,
   "id": "78bef4ca-6b3a-420e-9a57-5c35d1fcfc9d",
   "metadata": {},
   "outputs": [],
   "source": [
    "import sys\n",
    "sys.path.append('../../../../')\n",
    "\n",
    "from python_lib.halfedge_mesh import *\n",
    "m = HalfedgeMesh('../../../../resources/sphere4.off')\n",
    "\n",
    "m.write_off('test.off')\n",
    "m.write_obj('test.obj')"
   ]
  },
  {
   "cell_type": "code",
   "execution_count": null,
   "id": "eb0d0033-3d99-4b01-a897-e93d7f303db9",
   "metadata": {},
   "outputs": [],
   "source": []
  },
  {
   "cell_type": "code",
   "execution_count": null,
   "id": "9d19bad3-d3c3-4bc8-a45e-12ec6d7826e4",
   "metadata": {},
   "outputs": [],
   "source": []
  }
 ],
 "metadata": {
  "kernelspec": {
   "display_name": "Python 3 (ipykernel)",
   "language": "python",
   "name": "python3"
  },
  "language_info": {
   "codemirror_mode": {
    "name": "ipython",
    "version": 3
   },
   "file_extension": ".py",
   "mimetype": "text/x-python",
   "name": "python",
   "nbconvert_exporter": "python",
   "pygments_lexer": "ipython3",
   "version": "3.12.7"
  }
 },
 "nbformat": 4,
 "nbformat_minor": 5
}
