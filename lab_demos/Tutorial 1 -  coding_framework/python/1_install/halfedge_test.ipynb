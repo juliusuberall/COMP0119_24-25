{
 "cells": [
  {
   "cell_type": "code",
   "execution_count": 1,
   "id": "78bef4ca-6b3a-420e-9a57-5c35d1fcfc9d",
   "metadata": {},
   "outputs": [],
   "source": [
    "import sys\n",
    "sys.path.append('../../../../')\n",
    "\n",
    "from python_lib.halfedge_mesh import *\n",
    "m = HalfedgeMesh('../../../../resources/sphere4.off')\n",
    "\n",
    "m.write_off('test.off')\n",
    "m.write_obj('test.obj')"
   ]
  }
 ],
 "metadata": {
  "kernelspec": {
   "display_name": "Python 3",
   "language": "python",
   "name": "python3"
  },
  "language_info": {
   "codemirror_mode": {
    "name": "ipython",
    "version": 3
   },
   "file_extension": ".py",
   "mimetype": "text/x-python",
   "name": "python",
   "nbconvert_exporter": "python",
   "pygments_lexer": "ipython3",
   "version": "3.9.21"
  }
 },
 "nbformat": 4,
 "nbformat_minor": 5
}
