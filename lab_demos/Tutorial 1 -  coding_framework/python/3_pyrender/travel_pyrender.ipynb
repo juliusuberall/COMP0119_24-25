{
 "cells": [
  {
   "cell_type": "markdown",
   "metadata": {},
   "source": [
    "# Access Neighbors\n",
    "  \n",
    "In this notebook, we provides neighboring traveling examples using Trimesh."
   ]
  },
  {
   "cell_type": "code",
   "execution_count": 1,
   "metadata": {},
   "outputs": [],
   "source": [
    "import sys,os\n",
    "\n",
    "RES_PATH = '../../../../resources'\n",
    "LIB_PATH = '../../../../python_lib'\n",
    "\n",
    "if not os.path.exists(RES_PATH):\n",
    "    print( 'cannot find \\resources\\, please update RES_PATH')\n",
    "    exit(1)\n",
    "    \n",
    "\n",
    "# append path \n",
    "sys.path.append(LIB_PATH) \n",
    "from geo_tools import rd_helper\n",
    "\n",
    "import pyglet\n",
    "pyglet.options['shadow_window'] = False\n",
    "\n",
    "import pyrender\n",
    "import numpy as np\n",
    "import trimesh\n",
    "\n",
    "import matplotlib\n",
    "import matplotlib.pyplot as plt\n",
    "\n",
    "%load_ext autoreload\n",
    "%autoreload 2"
   ]
  },
  {
   "cell_type": "code",
   "execution_count": 2,
   "metadata": {},
   "outputs": [
    {
     "data": {
      "text/plain": [
       "'3.9.1'"
      ]
     },
     "execution_count": 2,
     "metadata": {},
     "output_type": "execute_result"
    }
   ],
   "source": [
    "trimesh.__version__"
   ]
  },
  {
   "cell_type": "markdown",
   "metadata": {},
   "source": [
    "### some handy functions for display"
   ]
  },
  {
   "cell_type": "code",
   "execution_count": 3,
   "metadata": {},
   "outputs": [],
   "source": [
    "def scene_factory(render_list):\n",
    "    \n",
    "    scene = pyrender.Scene(ambient_light=0.5*np.array([1.0, 1.0, 1.0, 1.0]))\n",
    "    \n",
    "    for m in render_list:\n",
    "        scene.add(m)\n",
    "    \n",
    "    return scene\n",
    "\n",
    "def run_gui(render_list, **kargs ):\n",
    "    scene = scene_factory(render_list)\n",
    "    # call GUI\n",
    "    v=pyrender.Viewer(scene, use_raymond_lighting=True, **kargs)\n",
    "    # free resources\n",
    "    del v \n",
    "    return None\n"
   ]
  },
  {
   "cell_type": "markdown",
   "metadata": {},
   "source": [
    "## Load a mesh"
   ]
  },
  {
   "cell_type": "code",
   "execution_count": 4,
   "metadata": {},
   "outputs": [],
   "source": [
    "mesh_fp = os.path.join(RES_PATH,'torus.obj')\n",
    "assert os.path.exists(mesh_fp), 'cannot found:'+mesh_fp \n",
    "tm = trimesh.load(mesh_fp) \n"
   ]
  },
  {
   "cell_type": "markdown",
   "metadata": {},
   "source": [
    "## Access Vertices, Faces, Edges"
   ]
  },
  {
   "cell_type": "code",
   "execution_count": 5,
   "metadata": {},
   "outputs": [
    {
     "name": "stdout",
     "output_type": "stream",
     "text": [
      "vertices, shape=(288, 3), #=288\n",
      "faces, shape=(576, 3), #=576\n",
      "edges, shape=(1728, 2), #=1728\n",
      "face_normals, shape=(576, 3), #=576\n",
      "vertex_normals, shape=(288, 3), #=288\n"
     ]
    }
   ],
   "source": [
    "props= ['vertices', 'faces', 'edges', 'face_normals' , 'vertex_normals']\n",
    "\n",
    "for p in props:\n",
    "    print('{:}, shape={:}, #={:}'.format(p,str(getattr(tm,p).shape),getattr(tm,p).shape[0]))"
   ]
  },
  {
   "cell_type": "code",
   "execution_count": 6,
   "metadata": {},
   "outputs": [
    {
     "name": "stdout",
     "output_type": "stream",
     "text": [
      "vertices[0]= [ 0. -2. -0.]\n",
      "faces[0]= [203  41  32]\n",
      "edges[0]= [203  41]\n"
     ]
    }
   ],
   "source": [
    "print('vertices[0]=',tm.vertices[0,:])\n",
    "print('faces[0]=',tm.faces[0,:])\n",
    "print('edges[0]=',tm.edges[0,:])"
   ]
  },
  {
   "cell_type": "markdown",
   "metadata": {},
   "source": [
    "## Apply a transform"
   ]
  },
  {
   "cell_type": "code",
   "execution_count": 20,
   "metadata": {},
   "outputs": [
    {
     "name": "stdout",
     "output_type": "stream",
     "text": [
      "vertices[0]= [ 0. -2. -0.]\n",
      "4-by-4 matrix=\n",
      "[[ 1.  0.  0.  0.]\n",
      " [ 0.  1.  0. 10.]\n",
      " [ 0.  0.  1.  0.]\n",
      " [ 0.  0.  0.  1.]]\n",
      "vertices[0]= [0. 8. 0.]\n",
      "vertices[0]= [ 0.  8. 10.]\n"
     ]
    }
   ],
   "source": [
    "print('vertices[0]=',tm.vertices[0,:])\n",
    "\n",
    "tx = np.eye(4)\n",
    "tx[:3,3]=np.array((0,10,0))\n",
    "\n",
    "# update vertices by matrix transformation\n",
    "print('4-by-4 matrix=')\n",
    "print(tx)\n",
    "tm2=tm.copy()\n",
    "tm2.apply_transform(tx)\n",
    "\n",
    "print('vertices[0]=',tm2.vertices[0,:])\n",
    "\n",
    "# directly update vertices\n",
    "tm3=tm.copy()\n",
    "tm3.vertices+= np.array([0,10,10]).reshape(1,3)\n",
    "\n",
    "print('vertices[0]=',tm3.vertices[0,:])"
   ]
  },
  {
   "cell_type": "code",
   "execution_count": 19,
   "metadata": {},
   "outputs": [],
   "source": [
    "mesh_rd1 = pyrender.Mesh.from_trimesh(tm)\n",
    "mesh_rd2 = pyrender.Mesh.from_trimesh(tm2)\n",
    "mesh_rd3 = pyrender.Mesh.from_trimesh(tm3)\n",
    "\n",
    "run_gui([mesh_rd1,mesh_rd2,mesh_rd3])"
   ]
  },
  {
   "cell_type": "markdown",
   "metadata": {},
   "source": [
    "## Select some edges via Trimesh.edges\n",
    "\n",
    "<img src=\"../imgs/s_edges2.jpg\" width=\"350\" /> \n"
   ]
  },
  {
   "cell_type": "code",
   "execution_count": 24,
   "metadata": {},
   "outputs": [],
   "source": [
    "edges = tm.edges[:30:4,:]\n",
    "\n",
    "p0 = tm.vertices[edges[:,0],:]\n",
    "p1 = tm.vertices[edges[:,1],:]\n",
    "\n",
    "edge_obj = rd_helper.create_edges(p0, p1, line_color=(1.0,0.0,0.0))\n",
    "\n",
    "mesh_rd1 = pyrender.Mesh.from_trimesh(tm)\n",
    "\n",
    "run_gui(render_list=[edge_obj,mesh_rd1],point_size=10.0)"
   ]
  },
  {
   "cell_type": "markdown",
   "metadata": {},
   "source": [
    "## Select some faces via Trimesh.faces\n",
    "\n",
    "<img src=\"../imgs/s_faces3.jpg\" width=\"350\" /> \n"
   ]
  },
  {
   "cell_type": "code",
   "execution_count": 26,
   "metadata": {},
   "outputs": [],
   "source": [
    "faces = tm.faces[:10,:]\n",
    "\n",
    "# a handy function to create face visualization\n",
    "def cook_face_vismesh(tm_obj, sel_faces):\n",
    "    p0 = tm_obj.vertices[sel_faces[:,0],:]\n",
    "    p1 = tm_obj.vertices[sel_faces[:,1],:]\n",
    "    p2 = tm_obj.vertices[sel_faces[:,2],:]\n",
    "\n",
    "    edge_obj_list=[]\n",
    "\n",
    "    c=(1.0,0.0,0.0)\n",
    "    edge_obj_list.append( rd_helper.create_edges(p0, p1, p0_color=c,p1_color=c,line_color=c , no_vex=True) )\n",
    "    edge_obj_list.append( rd_helper.create_edges(p1, p2, p0_color=c,p1_color=c,line_color=c , no_vex=True) )\n",
    "    edge_obj_list.append( rd_helper.create_edges(p2, p0, p0_color=c,p1_color=c,line_color=c , no_vex=True) )\n",
    "    \n",
    "    return edge_obj_list\n",
    "\n",
    "\n",
    "rd_list = cook_face_vismesh(tm, sel_faces=faces)\n",
    "\n",
    "mesh_rd1 = pyrender.Mesh.from_trimesh(tm)\n",
    "\n",
    "rd_list.append(mesh_rd1)\n",
    "\n",
    "run_gui( rd_list , point_size=10.0)"
   ]
  },
  {
   "cell_type": "markdown",
   "metadata": {},
   "source": [
    "## Select neighboring vertices (red colored)\n",
    "<img src=\"../imgs/s_cb.jpg\" width=\"400\" /> \n"
   ]
  },
  {
   "cell_type": "markdown",
   "metadata": {},
   "source": [
    "### Load a box mesh"
   ]
  },
  {
   "cell_type": "code",
   "execution_count": 27,
   "metadata": {},
   "outputs": [],
   "source": [
    "mesh_fp = os.path.join(RES_PATH,'box.obj')\n",
    "assert os.path.exists(mesh_fp), 'cannot found:'+mesh_fp \n",
    "box_tm = trimesh.load(mesh_fp) \n"
   ]
  },
  {
   "cell_type": "code",
   "execution_count": 12,
   "metadata": {},
   "outputs": [
    {
     "name": "stdout",
     "output_type": "stream",
     "text": [
      "vertex[[[ 0.5 -0.5  0.5]]]\n",
      "vertex_neighbors: [1, 3, 4, 6, 7]\n"
     ]
    }
   ],
   "source": [
    "def test_nbv():\n",
    "    vex_index = 5\n",
    "    \n",
    "    vex = box_tm.vertices[vex_index,:].reshape(1,3)\n",
    "    \n",
    "    #https://trimsh.org/trimesh.html#trimesh.Trimesh.vertex_neighbors\n",
    "    nb_vindices =box_tm.vertex_neighbors[vex_index]\n",
    "    \n",
    "    print('vertex[{:}]'.format(vex))\n",
    "    print('vertex_neighbors:',nb_vindices)\n",
    "    \n",
    "    nb_vxyz = box_tm.vertices[nb_vindices,:]\n",
    "    \n",
    "    # add a vertex into the rendering list\n",
    "    render_list=[]\n",
    "    \n",
    "    # vextex must be (N,3)\n",
    "    render_list.append( pyrender.Mesh.from_points( vex, colors=(0.0,1.0,0.0))  )\n",
    "    render_list.append( pyrender.Mesh.from_points( nb_vxyz, colors=(1.0,0.0,0.0))   )\n",
    "    \n",
    "    # also add the box mesh\n",
    "    render_list.append( pyrender.Mesh.from_trimesh( box_tm)   )\n",
    "    \n",
    "    # call GUI\n",
    "    run_gui(render_list=render_list, point_size=20.0, all_wireframe=True, cull_faces=True)\n",
    "    \n",
    "\n",
    "test_nbv()"
   ]
  },
  {
   "cell_type": "markdown",
   "metadata": {},
   "source": [
    "## Select neighboring faces (red colored)\n",
    "\n",
    "<img src=\"../imgs/nb_face2.png\" width=\"400\" /> \n"
   ]
  },
  {
   "cell_type": "code",
   "execution_count": 13,
   "metadata": {},
   "outputs": [],
   "source": [
    "mesh_fp = os.path.join(RES_PATH,'hfsphere.obj')\n",
    "assert os.path.exists(mesh_fp), 'cannot found:'+mesh_fp \n",
    "hfsphere_tm = trimesh.load(mesh_fp) "
   ]
  },
  {
   "cell_type": "code",
   "execution_count": 14,
   "metadata": {},
   "outputs": [],
   "source": [
    "\n",
    "def test_nbf():\n",
    "    \n",
    "    tm_obj = hfsphere_tm\n",
    "    \n",
    "    vex_index = 4\n",
    "    vex = tm_obj.vertices[vex_index,:].reshape(1,3)\n",
    "    \n",
    "    # get its neighboring faces\n",
    "    face_indices = tm_obj.vertex_faces[vex_index]\n",
    "\n",
    "    # select faces\n",
    "    faces = tm_obj.faces[face_indices,:]\n",
    "    \n",
    "    #-----------------------------------------------------\n",
    "    # create visualization object\n",
    "    \n",
    "    render_list=[]\n",
    "    \n",
    "    # add faces\n",
    "    render_list = render_list + cook_face_vismesh(tm_obj=tm_obj, sel_faces=faces)\n",
    "    \n",
    "    # add a vertex into the rendering list    \n",
    "    pts_m = pyrender.Mesh.from_points( vex, colors=(0.0,1.0,0.0)) \n",
    "    render_list.append(pts_m)\n",
    "    \n",
    "    # also add mesh \n",
    "    mesh_obj = pyrender.Mesh.from_trimesh(tm_obj)\n",
    "    render_list.append(mesh_obj)\n",
    "\n",
    "    # call GUI\n",
    "    run_gui(render_list=render_list, point_size=10.0, all_wireframe=False, cull_faces=True)\n",
    "\n",
    "    \n",
    "test_nbf()"
   ]
  }
 ],
 "metadata": {
  "kernelspec": {
   "display_name": "Python 3",
   "language": "python",
   "name": "python3"
  },
  "language_info": {
   "codemirror_mode": {
    "name": "ipython",
    "version": 3
   },
   "file_extension": ".py",
   "mimetype": "text/x-python",
   "name": "python",
   "nbconvert_exporter": "python",
   "pygments_lexer": "ipython3",
   "version": "3.6.12"
  }
 },
 "nbformat": 4,
 "nbformat_minor": 2
}
